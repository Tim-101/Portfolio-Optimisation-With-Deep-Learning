{
 "cells": [
  {
   "cell_type": "code",
   "execution_count": 12,
   "metadata": {},
   "outputs": [],
   "source": [
    "import pandas as pd\n",
    "import numpy as np\n",
    "import matplotlib.pyplot as plt\n",
    "from yahooquery import Ticker\n",
    "import datetime as dt\n",
    "from deepdow.utils import raw_to_Xy, returns_to_Xy, prices_to_returns\n",
    "from mlfinlab.portfolio_optimization import RiskEstimators,ReturnsEstimators\n",
    "from deepdow.data import InRAMDataset\n",
    "import torch\n",
    "import mlfinlab"
   ]
  },
  {
   "cell_type": "markdown",
   "metadata": {},
   "source": [
    "# Create the necessary functions"
   ]
  },
  {
   "cell_type": "code",
   "execution_count": 2,
   "metadata": {},
   "outputs": [],
   "source": [
    "def get_data(ticker_list, interval = '1d', start = dt.date.today() - dt.timedelta(days=1825), \n",
    "             end = dt.date.today()):\n",
    "\n",
    "    df = Ticker(ticker_list).history(interval = interval, start = start, end = end)[['adjclose','volume']].unstack(level=0)\n",
    "    df.columns = df.columns.swaplevel(0, 1)\n",
    "    df.sort_index(axis=1, level=0, inplace=True)\n",
    "    df.index = df.index.normalize()\n",
    "    \n",
    "    return df"
   ]
  },
  {
   "cell_type": "code",
   "execution_count": 13,
   "metadata": {},
   "outputs": [],
   "source": [
    "def raw_to_xy(raw_data, lookback=10, horizon=10, gap=0, freq='B'):\n",
    "\n",
    "    asset_names = raw_data.columns.levels[0].to_list()\n",
    "    indicators = raw_data.columns.levels[1].to_list()\n",
    "\n",
    "    index = pd.date_range(start=raw_data.index[0], end=raw_data.index[-1], freq=freq)\n",
    "\n",
    "    new = pd.DataFrame(raw_data, index=index).ffill().bfill()\n",
    "\n",
    "    absolute = new.iloc[:, new.columns.get_level_values(0).isin(asset_names)][asset_names]\n",
    "    absolute = absolute.iloc[:, absolute.columns.get_level_values(1).isin(indicators)]\n",
    "\n",
    "    returns = ReturnsEstimators.calculate_returns(absolute).fillna(0)\n",
    "\n",
    "    X_list = []\n",
    "    y_list = []\n",
    "    for ind in indicators:\n",
    "        X, timestamps, y = (returns_to_Xy(returns.xs(ind, axis=1, level=1),\n",
    "                                          lookback=lookback,\n",
    "                                          horizon=horizon,\n",
    "                                          gap=gap))\n",
    "        X_list.append(X)\n",
    "        y_list.append(y)\n",
    "\n",
    "    X = np.concatenate(X_list, axis=1)\n",
    "    y = np.concatenate(y_list, axis=1)\n",
    "\n",
    "    return X, timestamps, y, asset_names, indicators"
   ]
  },
  {
   "cell_type": "markdown",
   "metadata": {},
   "source": [
    "# Load Data"
   ]
  },
  {
   "cell_type": "code",
   "execution_count": 3,
   "metadata": {},
   "outputs": [],
   "source": [
    "ticker_list = ['ORG.AX', 'BEN.AX', 'WOR.AX', 'SYD.AX', 'SUN.AX', 'MQG.AX', 'TAH.AX', 'QBE.AX']\n",
    "stock_prices = get_data(ticker_list, start = \"2016-01-01\", end = \"2020-06-01\")"
   ]
  },
  {
   "cell_type": "code",
   "execution_count": 14,
   "metadata": {},
   "outputs": [],
   "source": [
    "from deepdow.utils import raw_to_Xy\n",
    "\n",
    "n_timesteps = len(stock_prices)\n",
    "n_channels = len(stock_prices.columns.levels[1])\n",
    "n_assets = len(stock_prices.columns.levels[0])\n",
    "\n",
    "lookback, gap, horizon = 60, 5, 5\n",
    "\n",
    "X, timestamps, y, asset_names, indicators = raw_to_xy(stock_prices,\n",
    "                                                      lookback=lookback,\n",
    "                                                      gap=gap,\n",
    "                                                      horizon=horizon)"
   ]
  },
  {
   "cell_type": "code",
   "execution_count": 17,
   "metadata": {},
   "outputs": [],
   "source": [
    "dataset = InRAMDataset(X, y, timestamps=timestamps, asset_names=asset_names)"
   ]
  },
  {
   "cell_type": "code",
   "execution_count": 18,
   "metadata": {},
   "outputs": [],
   "source": [
    "from deepdow.data import RigidDataLoader\n",
    "\n",
    "torch.manual_seed(1)\n",
    "batch_size = 5\n",
    "\n",
    "dataloader = RigidDataLoader(dataset, batch_size=batch_size)"
   ]
  },
  {
   "cell_type": "markdown",
   "metadata": {},
   "source": [
    "# Create Our Networks"
   ]
  },
  {
   "cell_type": "markdown",
   "metadata": {},
   "source": [
    "Use DeepDow Prebuilt Models: ThorpNet"
   ]
  },
  {
   "cell_type": "code",
   "execution_count": 28,
   "metadata": {},
   "outputs": [
    {
     "name": "stdout",
     "output_type": "stream",
     "text": [
      "ThorpNet(\n",
      "  (portfolio_opt_layer): NumericalMarkowitz(\n",
      "    (cvxpylayer): CvxpyLayer()\n",
      "  )\n",
      ")\n"
     ]
    }
   ],
   "source": [
    "from deepdow.nn import ThorpNet\n",
    "\n",
    "n_assets = 8\n",
    "max_weight = 1\n",
    "force_symmetric = True\n",
    "network = ThorpNet(n_assets, max_weight=max_weight, force_symmetric=force_symmetric)\n",
    "\n",
    "print(network)"
   ]
  },
  {
   "cell_type": "code",
   "execution_count": null,
   "metadata": {},
   "outputs": [],
   "source": []
  },
  {
   "cell_type": "code",
   "execution_count": null,
   "metadata": {},
   "outputs": [],
   "source": []
  },
  {
   "cell_type": "code",
   "execution_count": null,
   "metadata": {},
   "outputs": [],
   "source": []
  },
  {
   "cell_type": "code",
   "execution_count": null,
   "metadata": {},
   "outputs": [],
   "source": []
  },
  {
   "cell_type": "code",
   "execution_count": null,
   "metadata": {},
   "outputs": [],
   "source": []
  },
  {
   "cell_type": "code",
   "execution_count": null,
   "metadata": {},
   "outputs": [],
   "source": []
  },
  {
   "cell_type": "code",
   "execution_count": null,
   "metadata": {},
   "outputs": [],
   "source": []
  }
 ],
 "metadata": {
  "kernelspec": {
   "display_name": "Python 3",
   "language": "python",
   "name": "python3"
  },
  "language_info": {
   "codemirror_mode": {
    "name": "ipython",
    "version": 3
   },
   "file_extension": ".py",
   "mimetype": "text/x-python",
   "name": "python",
   "nbconvert_exporter": "python",
   "pygments_lexer": "ipython3",
   "version": "3.6.10"
  }
 },
 "nbformat": 4,
 "nbformat_minor": 4
}
